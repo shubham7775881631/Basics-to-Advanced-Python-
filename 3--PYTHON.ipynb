{
 "cells": [
  {
   "cell_type": "markdown",
   "metadata": {},
   "source": [
    "# string.strip(): it used to skip the spaces from the user"
   ]
  },
  {
   "cell_type": "code",
   "execution_count": null,
   "metadata": {},
   "outputs": [],
   "source": [
    "list = [\"nagpur\",\"pune\",\"mumbai\",\"hydrabad\"]\n",
    "city = input(\"Enter your city:  \\n\")\n",
    "\n",
    "if city.strip() in list:\n",
    "    print(\"Your city\" ,city,\"is available\")\n",
    "else:\n",
    "       print(\"Your city\" ,city,\"is not available\")\n",
    "    "
   ]
  },
  {
   "cell_type": "markdown",
   "metadata": {},
   "source": [
    "## string.lstrip(): it used to skip al the left hand side  spaces from the user"
   ]
  },
  {
   "cell_type": "code",
   "execution_count": null,
   "metadata": {},
   "outputs": [],
   "source": [
    "list = [\"nagpur\",\"pune\",\"mumbai\",\"hydrabad\"]\n",
    "city = input(\"Enter your city:  \\n\")\n",
    "\n",
    "if city.lstrip() in list:\n",
    "    print(\"Your city\" ,city,\"is available\")\n",
    "else:\n",
    "       print(\"Your city\" ,city,\"is not available\")\n",
    "    "
   ]
  },
  {
   "cell_type": "code",
   "execution_count": null,
   "metadata": {},
   "outputs": [],
   "source": []
  },
  {
   "cell_type": "markdown",
   "metadata": {},
   "source": [
    "## string.rstrip(): it used to skip right hand side spaces from the user"
   ]
  },
  {
   "cell_type": "code",
   "execution_count": null,
   "metadata": {},
   "outputs": [],
   "source": [
    "list = [\"nagpur\",\"pune\",\"mumbai\",\"hydrabad\"]\n",
    "city = input(\"Enter your city:  \\n\")\n",
    "\n",
    "if city.rstrip() in list:\n",
    "    print(\"Your city\" ,city,\"is available\")\n",
    "else:\n",
    "       print(\"Your city\" ,city,\"is not available\")\n",
    "    "
   ]
  },
  {
   "cell_type": "code",
   "execution_count": null,
   "metadata": {},
   "outputs": [],
   "source": []
  },
  {
   "cell_type": "markdown",
   "metadata": {},
   "source": [
    "# string.find(substring): it shws the starting index number of the string"
   ]
  },
  {
   "cell_type": "code",
   "execution_count": null,
   "metadata": {},
   "outputs": [],
   "source": [
    "string = \"shubhampuripurishubhampurishubhampuri\"\n",
    "\n",
    "print(string.find(\"puri\"))  # here 7 is the index numbe of the letter \"p\""
   ]
  },
  {
   "cell_type": "raw",
   "metadata": {},
   "source": [
    "# if given string is not present then it alwayes return -1"
   ]
  },
  {
   "cell_type": "code",
   "execution_count": null,
   "metadata": {},
   "outputs": [],
   "source": [
    "string = \"shubhampuripurishubhampurishubhampuri\"\n",
    "\n",
    "print(string.find(\"tom\"))  # here \"tom\" is not available in the string so it reutrns -1"
   ]
  },
  {
   "cell_type": "markdown",
   "metadata": {},
   "source": [
    "# string.find(substring, start_index_number,  end_index_numberA)"
   ]
  },
  {
   "cell_type": "code",
   "execution_count": null,
   "metadata": {},
   "outputs": [],
   "source": [
    "string = \"shubhampuripurishubhampurishubhampuri\"\n",
    "\n",
    "print(string.find(\"puri\",8,21))\n",
    "\n",
    "print(string.find(\"puri\",25,40))\n"
   ]
  },
  {
   "cell_type": "markdown",
   "metadata": {},
   "source": [
    "## string.rfind(substring) reverse direction"
   ]
  },
  {
   "cell_type": "code",
   "execution_count": null,
   "metadata": {},
   "outputs": [],
   "source": [
    "string = \"shubhampuripurishubhampurishubhampuri\"\n",
    "\n",
    "print(string.rfind(\"puri\",)) # it search string from right to left but count the index from left to right"
   ]
  },
  {
   "cell_type": "markdown",
   "metadata": {},
   "source": [
    "# string.index(substring, start_index_number,  end_index_number)"
   ]
  },
  {
   "cell_type": "code",
   "execution_count": null,
   "metadata": {},
   "outputs": [],
   "source": [
    "# it is same function as find () to find the index number"
   ]
  },
  {
   "cell_type": "code",
   "execution_count": null,
   "metadata": {},
   "outputs": [],
   "source": [
    "string = \"shubhampuripurishubhampurishubhampuri\"\n",
    "\n",
    "print(string.index(\"puri\"))"
   ]
  },
  {
   "cell_type": "code",
   "execution_count": null,
   "metadata": {},
   "outputs": [],
   "source": [
    "# string.rindex(substring, start_index_number,  end_index_numberA)"
   ]
  },
  {
   "cell_type": "code",
   "execution_count": null,
   "metadata": {},
   "outputs": [],
   "source": [
    "string = \"shubhampuripurishubhampurishubhampuri\"\n",
    "\n",
    "print(string.index(\"puri\",25,40))"
   ]
  },
  {
   "cell_type": "code",
   "execution_count": null,
   "metadata": {},
   "outputs": [],
   "source": []
  },
  {
   "cell_type": "markdown",
   "metadata": {},
   "source": [
    "# HOw TO USe \n",
    "# string.index(substring, start_index_number,  end_index_number)"
   ]
  },
  {
   "cell_type": "code",
   "execution_count": null,
   "metadata": {},
   "outputs": [],
   "source": []
  },
  {
   "cell_type": "code",
   "execution_count": null,
   "metadata": {},
   "outputs": [],
   "source": [
    "string = input(\"Enter your main String : \\n\")\n",
    "substring = input(\"Enter your substring : \\s\")\n",
    "\n",
    "try:\n",
    "    n =string.index(substring)\n",
    "except ValueError:\n",
    "    print(\"!!!!!!!!!!!Your substring does not match to main string!!!!!!!! \")\n",
    "else:\n",
    "    print(\"Substring is found!\")\n",
    "    \n",
    "    "
   ]
  },
  {
   "cell_type": "code",
   "execution_count": null,
   "metadata": {},
   "outputs": [],
   "source": [
    "# Program to find out all the occureces of substribg into the Main string s\n",
    "\n",
    "s =input(\"Enter the your main String:\\n\")\n",
    "substring=input(\"Enter Your SubString:\\n\")\n",
    "\n",
    "pos=-1\n",
    "n=len(s)\n",
    "flag=False\n",
    "\n",
    "while True:\n",
    "    pos = s.find(substring,pos+1,n)\n",
    "    \n",
    "    if(pos==-1):               # if a given string does not present in the string the by desfsult value returns -1\n",
    "        break                   # so while loop break\n",
    "        \n",
    "    print(\"The substring found at the %d index of mainString s\"%pos)\n",
    "    flag=True\n",
    "    \n",
    "if(flag==False):\n",
    "    print(\"Not Found Indexx!!!!!!!\")\n"
   ]
  },
  {
   "cell_type": "code",
   "execution_count": null,
   "metadata": {},
   "outputs": [],
   "source": [
    "# Let's count the number of the sunstring\n",
    "\n",
    "s= input(\"Enter your MainString:\\n\")\n",
    "substring=input(\"Enter Your SubString:\\n\")\n",
    "\n",
    "# variable Declration\n",
    "pos=-1\n",
    "n = len(s)\n",
    "flag=False\n",
    "count_substring=0\n",
    "\n",
    "# logic\n",
    "while True:\n",
    "    pos=s.find(substring,pos+1,n)\n",
    "    \n",
    "    if pos==-1:\n",
    "        break\n",
    "        \n",
    "    print(\" your SubString found at %d index in the main String(s)\"%pos)\n",
    "    \n",
    "    flag=True\n",
    "    count_substring+=1\n",
    "\n",
    "if flag==False:\n",
    "    print(\"Not Found Index!!!!!!\")\n",
    "\n",
    "    \n",
    "print(\"The Total Number of the SubString:\",count_substring)\n",
    "        \n",
    "\n",
    "\n",
    "\n"
   ]
  },
  {
   "cell_type": "markdown",
   "metadata": {},
   "source": [
    " #  String.count(\"substring\",start_pos, end_pos): it helpss in the counting the number of the substring in the main string"
   ]
  },
  {
   "cell_type": "code",
   "execution_count": null,
   "metadata": {},
   "outputs": [],
   "source": []
  },
  {
   "cell_type": "code",
   "execution_count": null,
   "metadata": {},
   "outputs": [],
   "source": [
    "s =\"shuuuuuuuuuuuukoi  haiiiiiiiiiiuu !!!!!!!!!!!!!!!!1\"\n",
    "\n",
    "print(s.count(\"u\"))\n",
    "print(s.count(\"u\",25,35))"
   ]
  },
  {
   "cell_type": "markdown",
   "metadata": {},
   "source": [
    "# sting.replace(\"substring\",\"bystring\")"
   ]
  },
  {
   "cell_type": "code",
   "execution_count": null,
   "metadata": {},
   "outputs": [],
   "source": []
  },
  {
   "cell_type": "code",
   "execution_count": null,
   "metadata": {},
   "outputs": [],
   "source": [
    "s = \"shuuuuuuukoiiihaiaaaaaaaaaaaa\"\n",
    "\n",
    "print(s.replace(\"a\",\"!\"))"
   ]
  },
  {
   "cell_type": "markdown",
   "metadata": {},
   "source": [
    "# string.split(\"splited_value\",  the number values ): it gives the list of the values"
   ]
  },
  {
   "cell_type": "code",
   "execution_count": null,
   "metadata": {},
   "outputs": [],
   "source": [
    "s= \"shubh-vai-tom-joy-crazy-lancy-jacy-losu-fusy\"\n",
    "\n",
    "print(s.split(\"-\"))"
   ]
  },
  {
   "cell_type": "code",
   "execution_count": null,
   "metadata": {},
   "outputs": [],
   "source": []
  },
  {
   "cell_type": "code",
   "execution_count": null,
   "metadata": {},
   "outputs": [],
   "source": [
    "s=\"shubh-vai-tom-joy-crazy-lancy-jacy-losu-fusy\"\n",
    "\n",
    "print(s.split(\"-\",3))\n"
   ]
  },
  {
   "cell_type": "code",
   "execution_count": null,
   "metadata": {},
   "outputs": [],
   "source": [
    "s=\"shubh-vai-tom-joy-crazy-lancy-jacy-losu-fusy\"\n",
    "\n",
    "p=(s.split(\"-\",3))\n",
    "for x in p:\n",
    "    print(x)"
   ]
  },
  {
   "cell_type": "markdown",
   "metadata": {},
   "source": [
    "# \" \".join(string in the list)"
   ]
  },
  {
   "cell_type": "code",
   "execution_count": null,
   "metadata": {},
   "outputs": [],
   "source": [
    "s = [\"Antman\",\"Batman\",\"Spiderman\",\"Ironman\"]\n",
    "\n",
    "p = \" \".join(s)\n",
    "\n",
    "print(p)"
   ]
  },
  {
   "cell_type": "code",
   "execution_count": null,
   "metadata": {},
   "outputs": [],
   "source": [
    "s = [\"Antman\",\"Batman\",\"Spiderman\",\"Ironman\"]\n",
    "\n",
    "p = \"-\".join(s)\n",
    "\n",
    "print(p)"
   ]
  },
  {
   "cell_type": "code",
   "execution_count": null,
   "metadata": {},
   "outputs": [],
   "source": [
    "s = [\"Antman\",\"Batman\",\"Spiderman\",\"Ironman\"]\n",
    "\n",
    "p = \">>>\".join(s)\n",
    "\n",
    "print(p)"
   ]
  },
  {
   "cell_type": "markdown",
   "metadata": {},
   "source": [
    "# string.lower():string become LowerCaseLetter\n",
    "\n",
    "# string.upper():string become UpperCaseLetter\n",
    "\n",
    "# string.title():string statring words become captial\n",
    "\n",
    "# string.capitalize():string only first letter become capital\n",
    "\n",
    "# string.swapcase():it intercange the cases"
   ]
  },
  {
   "cell_type": "code",
   "execution_count": null,
   "metadata": {},
   "outputs": [],
   "source": [
    "s = \"Shubham will become best Data Scientist in the WORLD\"\n",
    "\n",
    "print(s.lower())\n",
    "print(s.upper())\n",
    "print(s.title())\n",
    "print(s.capitalize())\n",
    "print(s.swapcase())\n"
   ]
  },
  {
   "cell_type": "markdown",
   "metadata": {},
   "source": [
    "# checking the start with string And end with the string "
   ]
  },
  {
   "cell_type": "code",
   "execution_count": null,
   "metadata": {},
   "outputs": [],
   "source": [
    "s = \"python is the trending language\"\n",
    "\n",
    "print(s.startswith(\"python\"))\n",
    "\n",
    "print(s.endswith(\"language\"))"
   ]
  },
  {
   "cell_type": "code",
   "execution_count": null,
   "metadata": {},
   "outputs": [],
   "source": []
  },
  {
   "cell_type": "markdown",
   "metadata": {},
   "source": [
    "# Types of string chracter"
   ]
  },
  {
   "cell_type": "code",
   "execution_count": null,
   "metadata": {},
   "outputs": [],
   "source": [
    "isalnum()\n",
    "isdigit()\n",
    "isalpha()\n",
    "islower()\n",
    "isupper()\n",
    "isspace()"
   ]
  },
  {
   "cell_type": "code",
   "execution_count": null,
   "metadata": {},
   "outputs": [],
   "source": [
    "print(\"ID104d908\".isalnum())     # it returns true when it contains both aplhabetical as well as digit\n",
    "print(\"ID104d908\".isdigit())    #it return true whenn all digi is present\n",
    "print(\"ID104d908\".isalpha())    # it return True only when all are alphabetical present \n",
    "print(\"IDa\".islower())          #it reuires all the string in loer case to return True\n",
    "print(\"ID\".isupper())           # it requires all string capital letter\n",
    "print(\"ID104d908\".isspace())   # it rturns when only space present in the string"
   ]
  },
  {
   "cell_type": "code",
   "execution_count": null,
   "metadata": {},
   "outputs": [],
   "source": []
  },
  {
   "cell_type": "code",
   "execution_count": null,
   "metadata": {},
   "outputs": [],
   "source": [
    "s = input(\"Enter your Chracter String:\\n\")\n",
    "\n",
    "if s.alnum():\n",
    "    print(\"it is AlphaNumeric\")\n",
    "    if  s.isnum():\n",
    "        print(\"it is numeric\")\n",
    "        if s.islower():\n",
    "            print(\"it is Lower Case\")\n",
    "        else:\n",
    "            print(\"it is Upper Case\")\n",
    "    else:\n",
    "        print(\"it is Digit\")\n",
    "elif s.isspace():\n",
    "    print(\"Nothing in the String\")\n",
    "else:\n",
    "    print(\"Non spce Special Character\")\n",
    "    "
   ]
  },
  {
   "cell_type": "markdown",
   "metadata": {},
   "source": [
    "# reverse the String\n",
    "\n",
    "   1)  string[: : -1]"
   ]
  },
  {
   "cell_type": "code",
   "execution_count": null,
   "metadata": {},
   "outputs": [],
   "source": []
  },
  {
   "cell_type": "code",
   "execution_count": null,
   "metadata": {},
   "outputs": [],
   "source": [
    "s = input(\"Enter Your String\")\n",
    "\n",
    "r = s[::-1]\n",
    "\n",
    "print(r)"
   ]
  },
  {
   "cell_type": "code",
   "execution_count": null,
   "metadata": {},
   "outputs": [],
   "source": [
    "s = input(\"Enter Your String\")\n",
    "\n",
    "reversed(s)  # this is no make sense \n"
   ]
  },
  {
   "cell_type": "code",
   "execution_count": null,
   "metadata": {},
   "outputs": [],
   "source": [
    "# letw try to meanigful\n",
    "s = input(\"Enter Your String\")\n",
    "\n",
    "print(\"\".join(reversed(s)))\n",
    "\n",
    "\n"
   ]
  },
  {
   "cell_type": "code",
   "execution_count": null,
   "metadata": {},
   "outputs": [],
   "source": [
    "s = input(\"Enter Your String\")\n",
    "\n",
    "for x in reversed(s):\n",
    "    print(x,end=\"\")  # end=\"\" it keeps the cursor on the line"
   ]
  },
  {
   "cell_type": "code",
   "execution_count": null,
   "metadata": {},
   "outputs": [],
   "source": []
  },
  {
   "cell_type": "code",
   "execution_count": null,
   "metadata": {},
   "outputs": [],
   "source": [
    "s = input(\"Enter Your String\")\n",
    "\n",
    "i=len(s)-1\n",
    "output=\"\"\n",
    "\n",
    "while i>=0:\n",
    "    \n",
    "    output = output+s[i]\n",
    "    \n",
    "    i=i-1\n",
    "print(output)    \n"
   ]
  },
  {
   "cell_type": "code",
   "execution_count": null,
   "metadata": {},
   "outputs": [],
   "source": []
  },
  {
   "cell_type": "markdown",
   "metadata": {},
   "source": [
    "# Examples "
   ]
  },
  {
   "cell_type": "code",
   "execution_count": null,
   "metadata": {},
   "outputs": [],
   "source": []
  },
  {
   "cell_type": "code",
   "execution_count": null,
   "metadata": {},
   "outputs": [],
   "source": [
    "s = input(\"Enter Your String : \")\n",
    "\n",
    "print(\"the even character in string are: \",s[::2])  # print the Even Chracter\n",
    "\n",
    "print(\"the od character in string are: \",s[1::2])  # print the odd Charcter\n",
    "\n",
    "print(\"the reverse string is: \",s[::-1]) # prints reverse the string\n"
   ]
  },
  {
   "cell_type": "code",
   "execution_count": 4,
   "metadata": {},
   "outputs": [
    {
     "name": "stdout",
     "output_type": "stream",
     "text": [
      "Enter some string: python\n",
      "The chracter at the even position : \n",
      "p,t,o,\n",
      "The chracter at odd position : \n",
      "y,h,n,"
     ]
    }
   ],
   "source": [
    "## To Print Even And Odd position in string\n",
    "\n",
    "s = input(\"Enter some string: \")\n",
    "\n",
    "i = 0\n",
    "\n",
    "print(\"The chracter at the even position : \")\n",
    "while i<len(s):\n",
    "    \n",
    "    print(s[i],end = ',')\n",
    "    i+=2\n",
    "print()    \n",
    "\n",
    "### print odd position chacter in the string\n",
    "\n",
    "print(\"The chracter at odd position : \")  \n",
    "i=1\n",
    "while i<len(s):\n",
    "    print(s[i],end = \",\")\n",
    "    i+=2\n"
   ]
  },
  {
   "cell_type": "markdown",
   "metadata": {},
   "source": [
    "# sort the string\n",
    "\n",
    "##input:  B45C18A\n",
    "##output: ABC1458"
   ]
  },
  {
   "cell_type": "code",
   "execution_count": 7,
   "metadata": {},
   "outputs": [
    {
     "name": "stdout",
     "output_type": "stream",
     "text": [
      "Enter the some StringB45C18A\n",
      "ABC1458\n"
     ]
    }
   ],
   "source": [
    "s = input(\"Enter the some String:\")\n",
    "\n",
    "s1 = s2 = output=\"\"\n",
    "\n",
    "for x in s:\n",
    "    if x.isalpha():\n",
    "        s1 = s1 + x\n",
    "    else:\n",
    "        s2= s2 + x\n",
    "for x in sorted(s1):\n",
    "    output = output + x\n",
    "for x in sorted(s2):\n",
    "    output = output + x\n",
    "    \n",
    "print(output)\n",
    "    \n",
    "\n",
    "\n"
   ]
  },
  {
   "cell_type": "markdown",
   "metadata": {},
   "source": [
    "# if you do not want special chracter "
   ]
  },
  {
   "cell_type": "code",
   "execution_count": 8,
   "metadata": {},
   "outputs": [
    {
     "name": "stdout",
     "output_type": "stream",
     "text": [
      "Enter the some string :  \n",
      "C47#VDVWu3bj\n",
      "CDVVWbju347\n"
     ]
    }
   ],
   "source": [
    "s = input(\"Enter the some string :  \\n\")\n",
    "s1 = s2 = output = ''\n",
    "for x in s:\n",
    "    if x.isalpha():\n",
    "        s1 = s1 + x\n",
    "    elif x.isdigit():  # just put elif instead of else\n",
    "        s2 = s2 + x\n",
    "for x in sorted(s1):\n",
    "    output = output + x\n",
    "    \n",
    "for x in sorted(s2):\n",
    "    output = output + x\n",
    "print(output)    \n",
    "    \n",
    "    \n",
    "    \n",
    "        "
   ]
  },
  {
   "cell_type": "markdown",
   "metadata": {},
   "source": [
    "input : a4b3c2\n",
    "ouput : aaaabbbcc     "
   ]
  },
  {
   "cell_type": "code",
   "execution_count": 11,
   "metadata": {},
   "outputs": [
    {
     "name": "stdout",
     "output_type": "stream",
     "text": [
      "enter the string  : a4b3c2\n",
      "aaaabbbcc\n"
     ]
    }
   ],
   "source": [
    "\n",
    "s = input(\"enter the string  : \")\n",
    "s1=s2=output =''\n",
    "for x in s:\n",
    "    if x.isalpha():\n",
    "        s1 = s1 +x\n",
    "        previous = x\n",
    "    else:\n",
    "        output = output + previous * int(x)\n",
    "print(output)        \n",
    "        \n",
    "        "
   ]
  },
  {
   "cell_type": "markdown",
   "metadata": {},
   "source": [
    "input1: shubham\n",
    "input2: vaibhav\n",
    "\n",
    "output: svhauibbhhaamv    \n",
    "    "
   ]
  },
  {
   "cell_type": "code",
   "execution_count": null,
   "metadata": {},
   "outputs": [],
   "source": [
    "# overlapping of alternate string"
   ]
  },
  {
   "cell_type": "code",
   "execution_count": 18,
   "metadata": {},
   "outputs": [
    {
     "name": "stdout",
     "output_type": "stream",
     "text": [
      "Enter the 1st String : shbham\n",
      "Enter tht 2 nd String:   vaibhav\n",
      "svhabihbahmav\n"
     ]
    }
   ],
   "source": [
    "s1 = input(\"Enter the 1st String : \")\n",
    "s2 = input(\"Enter tht 2 nd String:   \")\n",
    "\n",
    "output = ''\n",
    "\n",
    "i=j=0\n",
    "\n",
    "while i<len(s1) or j<len(s2):\n",
    "    \n",
    "    if i<len(s1):\n",
    "        output = output + s1[i]\n",
    "        i=i+1\n",
    "    if j<len(s2):\n",
    "        output = output + s2[j]\n",
    "        j=j+1\n",
    "print(output)    "
   ]
  },
  {
   "cell_type": "code",
   "execution_count": null,
   "metadata": {},
   "outputs": [],
   "source": []
  },
  {
   "cell_type": "code",
   "execution_count": null,
   "metadata": {},
   "outputs": [],
   "source": []
  },
  {
   "cell_type": "code",
   "execution_count": null,
   "metadata": {},
   "outputs": [],
   "source": []
  },
  {
   "cell_type": "code",
   "execution_count": null,
   "metadata": {},
   "outputs": [],
   "source": []
  },
  {
   "cell_type": "code",
   "execution_count": null,
   "metadata": {},
   "outputs": [],
   "source": []
  },
  {
   "cell_type": "code",
   "execution_count": null,
   "metadata": {},
   "outputs": [],
   "source": []
  },
  {
   "cell_type": "code",
   "execution_count": null,
   "metadata": {},
   "outputs": [],
   "source": []
  },
  {
   "cell_type": "code",
   "execution_count": null,
   "metadata": {},
   "outputs": [],
   "source": []
  },
  {
   "cell_type": "code",
   "execution_count": null,
   "metadata": {},
   "outputs": [],
   "source": []
  },
  {
   "cell_type": "code",
   "execution_count": null,
   "metadata": {},
   "outputs": [],
   "source": []
  },
  {
   "cell_type": "code",
   "execution_count": null,
   "metadata": {},
   "outputs": [],
   "source": []
  },
  {
   "cell_type": "code",
   "execution_count": null,
   "metadata": {},
   "outputs": [],
   "source": []
  },
  {
   "cell_type": "code",
   "execution_count": null,
   "metadata": {},
   "outputs": [],
   "source": []
  },
  {
   "cell_type": "code",
   "execution_count": null,
   "metadata": {},
   "outputs": [],
   "source": []
  },
  {
   "cell_type": "code",
   "execution_count": null,
   "metadata": {},
   "outputs": [],
   "source": []
  },
  {
   "cell_type": "code",
   "execution_count": null,
   "metadata": {},
   "outputs": [],
   "source": []
  },
  {
   "cell_type": "code",
   "execution_count": null,
   "metadata": {},
   "outputs": [],
   "source": []
  },
  {
   "cell_type": "code",
   "execution_count": null,
   "metadata": {},
   "outputs": [],
   "source": []
  },
  {
   "cell_type": "code",
   "execution_count": null,
   "metadata": {},
   "outputs": [],
   "source": []
  },
  {
   "cell_type": "code",
   "execution_count": null,
   "metadata": {},
   "outputs": [],
   "source": []
  },
  {
   "cell_type": "code",
   "execution_count": null,
   "metadata": {},
   "outputs": [],
   "source": []
  },
  {
   "cell_type": "code",
   "execution_count": null,
   "metadata": {},
   "outputs": [],
   "source": []
  },
  {
   "cell_type": "code",
   "execution_count": null,
   "metadata": {},
   "outputs": [],
   "source": []
  },
  {
   "cell_type": "code",
   "execution_count": null,
   "metadata": {},
   "outputs": [],
   "source": []
  },
  {
   "cell_type": "code",
   "execution_count": null,
   "metadata": {},
   "outputs": [],
   "source": []
  },
  {
   "cell_type": "code",
   "execution_count": null,
   "metadata": {},
   "outputs": [],
   "source": []
  },
  {
   "cell_type": "code",
   "execution_count": null,
   "metadata": {},
   "outputs": [],
   "source": []
  },
  {
   "cell_type": "code",
   "execution_count": null,
   "metadata": {},
   "outputs": [],
   "source": []
  },
  {
   "cell_type": "code",
   "execution_count": null,
   "metadata": {},
   "outputs": [],
   "source": []
  },
  {
   "cell_type": "code",
   "execution_count": null,
   "metadata": {},
   "outputs": [],
   "source": []
  },
  {
   "cell_type": "code",
   "execution_count": null,
   "metadata": {},
   "outputs": [],
   "source": []
  },
  {
   "cell_type": "code",
   "execution_count": null,
   "metadata": {},
   "outputs": [],
   "source": []
  },
  {
   "cell_type": "code",
   "execution_count": null,
   "metadata": {},
   "outputs": [],
   "source": []
  },
  {
   "cell_type": "code",
   "execution_count": null,
   "metadata": {},
   "outputs": [],
   "source": []
  },
  {
   "cell_type": "code",
   "execution_count": null,
   "metadata": {},
   "outputs": [],
   "source": []
  },
  {
   "cell_type": "code",
   "execution_count": null,
   "metadata": {},
   "outputs": [],
   "source": []
  },
  {
   "cell_type": "code",
   "execution_count": null,
   "metadata": {},
   "outputs": [],
   "source": []
  },
  {
   "cell_type": "code",
   "execution_count": null,
   "metadata": {},
   "outputs": [],
   "source": []
  },
  {
   "cell_type": "code",
   "execution_count": null,
   "metadata": {},
   "outputs": [],
   "source": []
  },
  {
   "cell_type": "code",
   "execution_count": null,
   "metadata": {},
   "outputs": [],
   "source": []
  },
  {
   "cell_type": "code",
   "execution_count": null,
   "metadata": {},
   "outputs": [],
   "source": []
  },
  {
   "cell_type": "code",
   "execution_count": null,
   "metadata": {},
   "outputs": [],
   "source": []
  },
  {
   "cell_type": "code",
   "execution_count": null,
   "metadata": {},
   "outputs": [],
   "source": []
  },
  {
   "cell_type": "code",
   "execution_count": null,
   "metadata": {},
   "outputs": [],
   "source": []
  },
  {
   "cell_type": "code",
   "execution_count": null,
   "metadata": {},
   "outputs": [],
   "source": []
  },
  {
   "cell_type": "code",
   "execution_count": null,
   "metadata": {},
   "outputs": [],
   "source": []
  },
  {
   "cell_type": "code",
   "execution_count": null,
   "metadata": {},
   "outputs": [],
   "source": []
  },
  {
   "cell_type": "code",
   "execution_count": null,
   "metadata": {},
   "outputs": [],
   "source": []
  }
 ],
 "metadata": {
  "kernelspec": {
   "display_name": "Python 3",
   "language": "python",
   "name": "python3"
  },
  "language_info": {
   "codemirror_mode": {
    "name": "ipython",
    "version": 3
   },
   "file_extension": ".py",
   "mimetype": "text/x-python",
   "name": "python",
   "nbconvert_exporter": "python",
   "pygments_lexer": "ipython3",
   "version": "3.7.6"
  }
 },
 "nbformat": 4,
 "nbformat_minor": 2
}
